{
 "cells": [
  {
   "cell_type": "markdown",
   "id": "94adb4b6",
   "metadata": {},
   "source": [
    "### This notebook solves exercise 3.7 problem 10 "
   ]
  },
  {
   "cell_type": "code",
   "execution_count": 1,
   "id": "c63c9bd2",
   "metadata": {},
   "outputs": [],
   "source": [
    "#pip install statsmodels"
   ]
  },
  {
   "cell_type": "markdown",
   "id": "d5a02e3d",
   "metadata": {},
   "source": [
    "Load the needed modules and handle the qualitative predictors"
   ]
  },
  {
   "cell_type": "code",
   "execution_count": 30,
   "id": "9607b402",
   "metadata": {},
   "outputs": [],
   "source": [
    "import pandas as pd\n",
    "import numpy as np\n",
    "import math\n",
    "from sklearn import datasets, linear_model\n",
    "from sklearn.linear_model import LinearRegression\n",
    "import statsmodels.api as sm\n",
    "from scipy import stats"
   ]
  },
  {
   "cell_type": "code",
   "execution_count": 40,
   "id": "220c1e0b",
   "metadata": {},
   "outputs": [],
   "source": [
    "data = pd.read_csv('Carseats.csv')\n",
    "data['Urban'].replace(['No', 'Yes'],[0, 1], inplace=True)\n",
    "data['US'].replace(['No', 'Yes'],[0, 1], inplace=True)\n",
    "data['ShelveLoc'].replace(['Bad', 'Medium', 'Good'],[-1, 0, 1], inplace=True)\n",
    "y=data.loc[:,'Sales']\n",
    "X=data.loc[:,'CompPrice':'US']"
   ]
  },
  {
   "cell_type": "markdown",
   "id": "d2c943e7",
   "metadata": {},
   "source": [
    "(a) Fit a multiple regression model to predict Sales using Price, Urban, and US."
   ]
  },
  {
   "cell_type": "code",
   "execution_count": 18,
   "id": "ee4f8031",
   "metadata": {},
   "outputs": [
    {
     "name": "stdout",
     "output_type": "stream",
     "text": [
      "                            OLS Regression Results                            \n",
      "==============================================================================\n",
      "Dep. Variable:                  Sales   R-squared:                       0.239\n",
      "Model:                            OLS   Adj. R-squared:                  0.234\n",
      "Method:                 Least Squares   F-statistic:                     41.52\n",
      "Date:                Wed, 14 Sep 2022   Prob (F-statistic):           2.39e-23\n",
      "Time:                        10:50:54   Log-Likelihood:                -927.66\n",
      "No. Observations:                 400   AIC:                             1863.\n",
      "Df Residuals:                     396   BIC:                             1879.\n",
      "Df Model:                           3                                         \n",
      "Covariance Type:            nonrobust                                         \n",
      "==============================================================================\n",
      "                 coef    std err          t      P>|t|      [0.025      0.975]\n",
      "------------------------------------------------------------------------------\n",
      "const         13.0435      0.651     20.036      0.000      11.764      14.323\n",
      "Price         -0.0545      0.005    -10.389      0.000      -0.065      -0.044\n",
      "Urban         -0.0219      0.272     -0.081      0.936      -0.556       0.512\n",
      "US             1.2006      0.259      4.635      0.000       0.691       1.710\n",
      "==============================================================================\n",
      "Omnibus:                        0.676   Durbin-Watson:                   1.912\n",
      "Prob(Omnibus):                  0.713   Jarque-Bera (JB):                0.758\n",
      "Skew:                           0.093   Prob(JB):                        0.684\n",
      "Kurtosis:                       2.897   Cond. No.                         628.\n",
      "==============================================================================\n",
      "\n",
      "Notes:\n",
      "[1] Standard Errors assume that the covariance matrix of the errors is correctly specified.\n"
     ]
    }
   ],
   "source": [
    "X=data.loc[:,['Price','Urban','US']]\n",
    "X=sm.add_constant(X)\n",
    "ols = sm.OLS(y, X) #ordinary least square\n",
    "est = ols.fit() # the learned linear model\n",
    "print(est.summary())"
   ]
  },
  {
   "cell_type": "markdown",
   "id": "c3ba120b",
   "metadata": {},
   "source": [
    "(b) Provide an interpretation of each coefficient in the model. Be\n",
    "careful—some of the variables in the model are qualitative! \\\n",
    "The coefficient of the “Price”: On everage 1 dollar increase in price will cause 54.5 unit decrease in sale with all other predictors remaining fixed. \\\n",
    "The coefficient of the “Urban”: On average the unit sales in urban location are 21.9 units less than in rural location all other predictors remaining fixed. \\ \n",
    "The coefficient of the “US”: On average the unit sales in a US store are 1200.6 units more than in a non US store all other predictors remaining fixed."
   ]
  },
  {
   "cell_type": "markdown",
   "id": "6e362600",
   "metadata": {},
   "source": [
    "(c) Write out the model in equation form, being careful to handle the qualitative variables properly.\\\n",
    "$\\text{Sales} = 13.0435-0.0545\\text{Price}-0.0219\\mathbb{1}_{\\text{Urban=1}}(\\text{Urban}) + 1.2006\\mathbb{1}_{\\text{US=1}}(\\text{US})$ "
   ]
  },
  {
   "cell_type": "markdown",
   "id": "f0168a9b",
   "metadata": {},
   "source": [
    "(d) For which of the predictors can you reject the null hypothesis $H_0: β_j =0?$ \\\n",
    "Price and US since the p-value is way less than 5%."
   ]
  },
  {
   "cell_type": "markdown",
   "id": "d9504765",
   "metadata": {},
   "source": [
    "(e) On the basis of your response to the previous question, fit a smaller model that only uses the predictors for which there is evidence of association with the outcome."
   ]
  },
  {
   "cell_type": "code",
   "execution_count": 21,
   "id": "7267ebeb",
   "metadata": {},
   "outputs": [
    {
     "name": "stdout",
     "output_type": "stream",
     "text": [
      "                            OLS Regression Results                            \n",
      "==============================================================================\n",
      "Dep. Variable:                  Sales   R-squared:                       0.239\n",
      "Model:                            OLS   Adj. R-squared:                  0.235\n",
      "Method:                 Least Squares   F-statistic:                     62.43\n",
      "Date:                Wed, 14 Sep 2022   Prob (F-statistic):           2.66e-24\n",
      "Time:                        11:16:19   Log-Likelihood:                -927.66\n",
      "No. Observations:                 400   AIC:                             1861.\n",
      "Df Residuals:                     397   BIC:                             1873.\n",
      "Df Model:                           2                                         \n",
      "Covariance Type:            nonrobust                                         \n",
      "==============================================================================\n",
      "                 coef    std err          t      P>|t|      [0.025      0.975]\n",
      "------------------------------------------------------------------------------\n",
      "const         13.0308      0.631     20.652      0.000      11.790      14.271\n",
      "Price         -0.0545      0.005    -10.416      0.000      -0.065      -0.044\n",
      "US             1.1996      0.258      4.641      0.000       0.692       1.708\n",
      "==============================================================================\n",
      "Omnibus:                        0.666   Durbin-Watson:                   1.912\n",
      "Prob(Omnibus):                  0.717   Jarque-Bera (JB):                0.749\n",
      "Skew:                           0.092   Prob(JB):                        0.688\n",
      "Kurtosis:                       2.895   Cond. No.                         607.\n",
      "==============================================================================\n",
      "\n",
      "Notes:\n",
      "[1] Standard Errors assume that the covariance matrix of the errors is correctly specified.\n"
     ]
    }
   ],
   "source": [
    "X=data.loc[:,['Price','US']]\n",
    "X=sm.add_constant(X)\n",
    "ols = sm.OLS(y, X) #ordinary least square\n",
    "est = ols.fit() # the learned linear model\n",
    "print(est.summary())"
   ]
  },
  {
   "cell_type": "markdown",
   "id": "ec644103",
   "metadata": {},
   "source": [
    "(f) How well do the models in (a) and (e) fit the data? \\\n",
    "By comparing the summaries from both models, the $R^2$ are similar or the simpler model is marginally better as seen from adjusted $R^2$. This indicates that the Urban predictor should not be included in the model."
   ]
  },
  {
   "cell_type": "markdown",
   "id": "a6f465f5",
   "metadata": {},
   "source": [
    "(g) Using the model from (e), obtain 95% confidence intervals for the coefficient(s).\\\n",
    "As seen from the summary from (e), the confidence interval is [11.790, 14.271], [-0.065, -0.044], and [0.692, 1.708] for const, Price, and US respectively. "
   ]
  },
  {
   "cell_type": "markdown",
   "id": "aa183cdd",
   "metadata": {},
   "source": [
    "(h) Design a model involving at least one interaction feature (e.g. $X_1*X_2$) and one transformed feature (e.g. $X_1^2$.) Write your model mathematically and use simulation data to comment your findings on the interaction feature and transformed feature used in the model.\\\n",
    "See below about how to involve nonlinear terms e.g. Price * Income or the square root of Advertising. Note the resulting model here has improved $R^2$ but the $p$-value indicate some redundancy of the terms used in the model.   "
   ]
  },
  {
   "cell_type": "code",
   "execution_count": 39,
   "id": "56c78f61",
   "metadata": {},
   "outputs": [
    {
     "name": "stdout",
     "output_type": "stream",
     "text": [
      "                            OLS Regression Results                            \n",
      "==============================================================================\n",
      "Dep. Variable:                  Sales   R-squared:                       0.294\n",
      "Model:                            OLS   Adj. R-squared:                  0.285\n",
      "Method:                 Least Squares   F-statistic:                     32.83\n",
      "Date:                Wed, 14 Sep 2022   Prob (F-statistic):           5.45e-28\n",
      "Time:                        12:00:11   Log-Likelihood:                -912.70\n",
      "No. Observations:                 400   AIC:                             1837.\n",
      "Df Residuals:                     394   BIC:                             1861.\n",
      "Df Model:                           5                                         \n",
      "Covariance Type:            nonrobust                                         \n",
      "======================================================================================\n",
      "                         coef    std err          t      P>|t|      [0.025      0.975]\n",
      "--------------------------------------------------------------------------------------\n",
      "const                 12.9570      0.612     21.185      0.000      11.755      14.159\n",
      "Price                 -0.0602      0.006    -10.914      0.000      -0.071      -0.049\n",
      "US                     0.1172      0.432      0.271      0.786      -0.732       0.966\n",
      "Advertising            0.1476      0.069      2.128      0.034       0.011       0.284\n",
      "Income_Price        9.183e-05   3.61e-05      2.543      0.011    2.08e-05       0.000\n",
      "Advertising_Rooted    -0.1370      0.325     -0.421      0.674      -0.777       0.502\n",
      "==============================================================================\n",
      "Omnibus:                        1.217   Durbin-Watson:                   1.930\n",
      "Prob(Omnibus):                  0.544   Jarque-Bera (JB):                1.132\n",
      "Skew:                           0.130   Prob(JB):                        0.568\n",
      "Kurtosis:                       3.015   Cond. No.                     4.47e+04\n",
      "==============================================================================\n",
      "\n",
      "Notes:\n",
      "[1] Standard Errors assume that the covariance matrix of the errors is correctly specified.\n",
      "[2] The condition number is large, 4.47e+04. This might indicate that there are\n",
      "strong multicollinearity or other numerical problems.\n"
     ]
    }
   ],
   "source": [
    "X=data.loc[:,['Price','US','Income','Advertising']]\n",
    "X=X.assign(Income_Price=lambda x: (x['Price']*x['Income']))\n",
    "X=X.assign(Advertising_Rooted=lambda x: (np.sqrt(x['Advertising'])))\n",
    "X=X.drop('Income',axis=1)\n",
    "X=sm.add_constant(X)\n",
    "ols = sm.OLS(y, X) #ordinary least square\n",
    "est = ols.fit() # the learned linear model\n",
    "print(est.summary())"
   ]
  },
  {
   "cell_type": "code",
   "execution_count": null,
   "id": "b4b4104e",
   "metadata": {},
   "outputs": [],
   "source": []
  }
 ],
 "metadata": {
  "kernelspec": {
   "display_name": "Python 3",
   "language": "python",
   "name": "python3"
  },
  "language_info": {
   "codemirror_mode": {
    "name": "ipython",
    "version": 3
   },
   "file_extension": ".py",
   "mimetype": "text/x-python",
   "name": "python",
   "nbconvert_exporter": "python",
   "pygments_lexer": "ipython3",
   "version": "3.7.10"
  }
 },
 "nbformat": 4,
 "nbformat_minor": 5
}
