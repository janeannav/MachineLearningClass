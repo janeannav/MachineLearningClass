{
 "cells": [
  {
   "cell_type": "code",
   "execution_count": null,
   "id": "e83e4d9b",
   "metadata": {},
   "outputs": [],
   "source": [
    "#Jane Anna Vickery"
   ]
  },
  {
   "cell_type": "code",
   "execution_count": 9,
   "id": "2618e5af",
   "metadata": {},
   "outputs": [],
   "source": [
    "import numpy as np                   # advanced math library\n",
    "import matplotlib.pyplot as plt      # MATLAB like plotting routines\n",
    "import random                        # for generating random numbers\n",
    "import keras\n",
    "\n",
    "from keras.datasets import mnist     # MNIST dataset is included in Keras\n",
    "from keras.models import Sequential  # Model type to be used\n",
    "\n",
    "from keras.layers.core import Dense, Dropout, Activation # Types of layers to be used in our model\n",
    "from keras.utils import np_utils   # NumPy related tools\n",
    "import pandas as pd\n",
    "from sklearn.model_selection import train_test_split"
   ]
  },
  {
   "cell_type": "code",
   "execution_count": 10,
   "id": "5a16dfae",
   "metadata": {},
   "outputs": [],
   "source": [
    "#7"
   ]
  },
  {
   "cell_type": "code",
   "execution_count": 11,
   "id": "2450ca43",
   "metadata": {
    "scrolled": true
   },
   "outputs": [
    {
     "name": "stdout",
     "output_type": "stream",
     "text": [
      "     default student      balance        income\n",
      "0         No      No   729.526495  44361.625074\n",
      "1         No     Yes   817.180407  12106.134700\n",
      "2         No      No  1073.549164  31767.138947\n",
      "3         No      No   529.250605  35704.493935\n",
      "4         No      No   785.655883  38463.495879\n",
      "...      ...     ...          ...           ...\n",
      "9995      No      No   711.555020  52992.378914\n",
      "9996      No      No   757.962918  19660.721768\n",
      "9997      No      No   845.411989  58636.156984\n",
      "9998      No      No  1569.009053  36669.112365\n",
      "9999      No     Yes   200.922183  16862.952321\n",
      "\n",
      "[10000 rows x 4 columns]\n"
     ]
    }
   ],
   "source": [
    "my_df = pd.read_csv('Default.csv')\n",
    "print(my_df)\n"
   ]
  },
  {
   "cell_type": "code",
   "execution_count": 12,
   "id": "16128178",
   "metadata": {},
   "outputs": [
    {
     "name": "stdout",
     "output_type": "stream",
     "text": [
      "  default student      balance        income\n",
      "0      No      No   729.526495  44361.625074\n",
      "1      No     Yes   817.180407  12106.134700\n",
      "2      No      No  1073.549164  31767.138947\n",
      "3      No      No   529.250605  35704.493935\n",
      "4      No      No   785.655883  38463.495879\n",
      "0    0\n",
      "1    0\n",
      "2    0\n",
      "3    0\n",
      "4    0\n",
      "Name: default, dtype: int64\n"
     ]
    }
   ],
   "source": [
    "df=pd.read_csv('Default.csv')\n",
    "print(df.head())\n",
    "X=df.loc[:,'default':'income']\n",
    "Y=df.default\n",
    "Y.replace(['Yes', 'No'],[1, 0], inplace=True)\n",
    "print(Y.head())\n",
    "y=np.zeros((len(Y),1))\n",
    "y[:,0] = Y\n",
    "#X_train=X; y_train=y\n",
    "X_train, X_test, y_train, y_test = train_test_split(X, y, test_size=0.2)"
   ]
  },
  {
   "cell_type": "code",
   "execution_count": 13,
   "id": "637514f4",
   "metadata": {
    "scrolled": true
   },
   "outputs": [
    {
     "name": "stdout",
     "output_type": "stream",
     "text": [
      "X_train shape (8000, 4)\n",
      "y_train shape (8000, 1)\n",
      "X_test shape (2000, 4)\n",
      "y_test shape (2000, 1)\n"
     ]
    }
   ],
   "source": [
    "print(\"X_train shape\", X_train.shape)\n",
    "print(\"y_train shape\", y_train.shape)\n",
    "print(\"X_test shape\", X_test.shape)\n",
    "print(\"y_test shape\", y_test.shape)"
   ]
  },
  {
   "cell_type": "code",
   "execution_count": 14,
   "id": "85e4fc08",
   "metadata": {},
   "outputs": [
    {
     "name": "stderr",
     "output_type": "stream",
     "text": [
      "2022-11-29 14:10:27.990563: I tensorflow/core/platform/cpu_feature_guard.cc:193] This TensorFlow binary is optimized with oneAPI Deep Neural Network Library (oneDNN) to use the following CPU instructions in performance-critical operations:  SSE4.1 SSE4.2\n",
      "To enable them in other operations, rebuild TensorFlow with the appropriate compiler flags.\n"
     ]
    }
   ],
   "source": [
    "# The Sequential model is a linear stack of layers and is very common.\n",
    "model = Sequential()"
   ]
  },
  {
   "cell_type": "code",
   "execution_count": 15,
   "id": "a7e8a204",
   "metadata": {},
   "outputs": [],
   "source": [
    "# Each node will receive an element from each input vector and apply some weight and bias to it.\n",
    "model.add(Dense(10, input_shape=(100,))) "
   ]
  },
  {
   "cell_type": "code",
   "execution_count": 16,
   "id": "2b126757",
   "metadata": {},
   "outputs": [],
   "source": [
    "# An \"activation\" is a non-linear function applied to the output of the layer above.\n",
    "# It checks the new value of the node, and decides whether that artifical neuron has fired.\n",
    "# The Rectified Linear Unit (ReLU) converts all negative inputs to nodes in the next layer to be zero.\n",
    "# Those inputs are then not considered to be fired.\n",
    "# Positive values of a node are unchanged.\n",
    "model.add(Activation('relu'))"
   ]
  },
  {
   "cell_type": "code",
   "execution_count": 17,
   "id": "616b52f7",
   "metadata": {},
   "outputs": [],
   "source": [
    "# The \"softmax\" activation represents a probability distribution over K different possible outcomes.\n",
    "# Its values are all non-negative and sum to 1.\n",
    "\n",
    "model.add(Activation('softmax'))"
   ]
  },
  {
   "cell_type": "code",
   "execution_count": 18,
   "id": "e779d3b0",
   "metadata": {},
   "outputs": [
    {
     "name": "stdout",
     "output_type": "stream",
     "text": [
      "Model: \"sequential\"\n",
      "_________________________________________________________________\n",
      " Layer (type)                Output Shape              Param #   \n",
      "=================================================================\n",
      " dense (Dense)               (None, 10)                1010      \n",
      "                                                                 \n",
      " activation (Activation)     (None, 10)                0         \n",
      "                                                                 \n",
      " activation_1 (Activation)   (None, 10)                0         \n",
      "                                                                 \n",
      "=================================================================\n",
      "Total params: 1,010\n",
      "Trainable params: 1,010\n",
      "Non-trainable params: 0\n",
      "_________________________________________________________________\n"
     ]
    }
   ],
   "source": [
    "# Summarize the built model\n",
    "model.summary()"
   ]
  },
  {
   "cell_type": "code",
   "execution_count": 19,
   "id": "b56c871a",
   "metadata": {},
   "outputs": [],
   "source": [
    "import pandas as pd    # to load dataset\n",
    "import numpy as np     # for mathematic equation\n",
    "from sklearn.model_selection import train_test_split       # for splitting dataset\n",
    "from tensorflow.keras.preprocessing.text import Tokenizer  # to encode text to int\n",
    "from tensorflow.keras.preprocessing.sequence import pad_sequences   # to do padding or truncating\n",
    "from tensorflow.keras.models import Sequential     # the model\n",
    "from tensorflow.keras.layers import Embedding, LSTM, Dense # layers of the architecture\n",
    "from tensorflow.keras.callbacks import ModelCheckpoint   # save model\n",
    "from tensorflow.keras.models import load_model   # load saved model\n",
    "from math import sqrt\n",
    "from sklearn.metrics import mean_squared_error\n",
    "import matplotlib.pyplot as plt\n",
    "import re"
   ]
  },
  {
   "cell_type": "code",
   "execution_count": 46,
   "id": "c9a0f740",
   "metadata": {},
   "outputs": [],
   "source": [
    "#12\n",
    "# Load the dataset\n",
    "my_df = pd.read_csv('NYSE.csv')\n",
    "\n",
    "\n",
    "# Load all needed information\n",
    "L = my_df.loc[:,['DJ_return','log_volume','log_volatility','train','day_of_week']]\n",
    "#changing string values in day_of_week column to interger values\n",
    "L.day_of_week.replace(['mon','tues','wed','thur','fri'],[1,2,3,4,5],inplace = True)\n",
    "\n",
    "# Create lagged sequences \n",
    "L['v1']=L.loc[:,'log_volume'].shift(1)\n",
    "L['v2']=L.loc[:,'log_volume'].shift(2)\n",
    "L['v3']=L.loc[:,'log_volume'].shift(3)\n",
    "L['v4']=L.loc[:,'log_volume'].shift(4)\n",
    "L['v5']=L.loc[:,'log_volume'].shift(5)\n",
    "L['r1']=L.loc[:,'DJ_return'].shift(1)\n",
    "L['r2']=L.loc[:,'DJ_return'].shift(2)\n",
    "L['r3']=L.loc[:,'DJ_return'].shift(3)\n",
    "L['r4']=L.loc[:,'DJ_return'].shift(4)\n",
    "L['r5']=L.loc[:,'DJ_return'].shift(5)\n",
    "L['z1']=L.loc[:,'log_volatility'].shift(1)\n",
    "L['z2']=L.loc[:,'log_volatility'].shift(2)\n",
    "L['z3']=L.loc[:,'log_volatility'].shift(3)\n",
    "L['z4']=L.loc[:,'log_volatility'].shift(4)\n",
    "L['z5']=L.loc[:,'log_volatility'].shift(5)\n",
    "L['q1']=L.loc[:,'day_of_week'].shift(1)\n",
    "L['q2']=L.loc[:,'day_of_week'].shift(2)\n",
    "L['q3']=L.loc[:,'day_of_week'].shift(3)\n",
    "L['q4']=L.loc[:,'day_of_week'].shift(4)\n",
    "L['q5']=L.loc[:,'day_of_week'].shift(5)\n",
    "\n",
    "\n",
    "\n",
    "\n",
    "L=L.dropna()\n",
    "\n",
    "\n",
    "train_X = L[L['train']==True]\n",
    "test_X = L[L['train']==False]\n",
    "train_y = train_X.loc[:,['log_volume']]\n",
    "test_y = test_X.loc[:,['log_volume']]\n",
    "\n",
    "train_X=train_X.drop(columns=['train','log_volume','DJ_return','log_volatility','day_of_week'])\n",
    "test_X=test_X.drop(columns=['train','log_volume','DJ_return','log_volatility','day_of_week'])\n",
    "\n",
    "\n",
    "\n",
    "# convert dataframe to ndarray thus reshape() is possible\n",
    "train_X=train_X.values\n",
    "test_X=test_X.values\n",
    "train_y=train_y.values\n",
    "test_y=test_y.values\n",
    "\n",
    "train_X = train_X.reshape((train_X.shape[0], 5, 4))\n",
    "test_X = test_X.reshape((test_X.shape[0], 5, 4))\n",
    "\n",
    "\n",
    "\n",
    "\n",
    "\n"
   ]
  },
  {
   "cell_type": "code",
   "execution_count": 47,
   "id": "aa651c41",
   "metadata": {
    "scrolled": true
   },
   "outputs": [
    {
     "name": "stdout",
     "output_type": "stream",
     "text": [
      "Epoch 1/50\n",
      "60/60 - 1s - loss: 0.1935 - val_loss: 0.1798 - 1s/epoch - 20ms/step\n",
      "Epoch 2/50\n",
      "60/60 - 0s - loss: 0.1804 - val_loss: 0.1702 - 171ms/epoch - 3ms/step\n",
      "Epoch 3/50\n",
      "60/60 - 0s - loss: 0.1621 - val_loss: 0.1501 - 162ms/epoch - 3ms/step\n",
      "Epoch 4/50\n",
      "60/60 - 0s - loss: 0.1340 - val_loss: 0.1433 - 163ms/epoch - 3ms/step\n",
      "Epoch 5/50\n",
      "60/60 - 0s - loss: 0.1266 - val_loss: 0.1406 - 163ms/epoch - 3ms/step\n",
      "Epoch 6/50\n",
      "60/60 - 0s - loss: 0.1237 - val_loss: 0.1391 - 163ms/epoch - 3ms/step\n",
      "Epoch 7/50\n",
      "60/60 - 0s - loss: 0.1212 - val_loss: 0.1387 - 163ms/epoch - 3ms/step\n",
      "Epoch 8/50\n",
      "60/60 - 0s - loss: 0.1206 - val_loss: 0.1382 - 162ms/epoch - 3ms/step\n",
      "Epoch 9/50\n",
      "60/60 - 0s - loss: 0.1196 - val_loss: 0.1376 - 164ms/epoch - 3ms/step\n",
      "Epoch 10/50\n",
      "60/60 - 0s - loss: 0.1189 - val_loss: 0.1372 - 165ms/epoch - 3ms/step\n",
      "Epoch 11/50\n",
      "60/60 - 0s - loss: 0.1190 - val_loss: 0.1368 - 163ms/epoch - 3ms/step\n",
      "Epoch 12/50\n",
      "60/60 - 0s - loss: 0.1183 - val_loss: 0.1363 - 176ms/epoch - 3ms/step\n",
      "Epoch 13/50\n",
      "60/60 - 0s - loss: 0.1174 - val_loss: 0.1360 - 162ms/epoch - 3ms/step\n",
      "Epoch 14/50\n",
      "60/60 - 0s - loss: 0.1175 - val_loss: 0.1359 - 161ms/epoch - 3ms/step\n",
      "Epoch 15/50\n",
      "60/60 - 0s - loss: 0.1175 - val_loss: 0.1357 - 162ms/epoch - 3ms/step\n",
      "Epoch 16/50\n",
      "60/60 - 0s - loss: 0.1173 - val_loss: 0.1356 - 163ms/epoch - 3ms/step\n",
      "Epoch 17/50\n",
      "60/60 - 0s - loss: 0.1171 - val_loss: 0.1357 - 161ms/epoch - 3ms/step\n",
      "Epoch 18/50\n",
      "60/60 - 0s - loss: 0.1175 - val_loss: 0.1357 - 161ms/epoch - 3ms/step\n",
      "Epoch 19/50\n",
      "60/60 - 0s - loss: 0.1167 - val_loss: 0.1354 - 162ms/epoch - 3ms/step\n",
      "Epoch 20/50\n",
      "60/60 - 0s - loss: 0.1169 - val_loss: 0.1354 - 160ms/epoch - 3ms/step\n",
      "Epoch 21/50\n",
      "60/60 - 0s - loss: 0.1165 - val_loss: 0.1353 - 160ms/epoch - 3ms/step\n",
      "Epoch 22/50\n",
      "60/60 - 0s - loss: 0.1166 - val_loss: 0.1353 - 160ms/epoch - 3ms/step\n",
      "Epoch 23/50\n",
      "60/60 - 0s - loss: 0.1169 - val_loss: 0.1354 - 161ms/epoch - 3ms/step\n",
      "Epoch 24/50\n",
      "60/60 - 0s - loss: 0.1165 - val_loss: 0.1354 - 162ms/epoch - 3ms/step\n",
      "Epoch 25/50\n",
      "60/60 - 0s - loss: 0.1163 - val_loss: 0.1355 - 161ms/epoch - 3ms/step\n",
      "Epoch 26/50\n",
      "60/60 - 0s - loss: 0.1171 - val_loss: 0.1353 - 161ms/epoch - 3ms/step\n",
      "Epoch 27/50\n",
      "60/60 - 0s - loss: 0.1168 - val_loss: 0.1352 - 160ms/epoch - 3ms/step\n",
      "Epoch 28/50\n",
      "60/60 - 0s - loss: 0.1160 - val_loss: 0.1353 - 160ms/epoch - 3ms/step\n",
      "Epoch 29/50\n",
      "60/60 - 0s - loss: 0.1164 - val_loss: 0.1355 - 160ms/epoch - 3ms/step\n",
      "Epoch 30/50\n",
      "60/60 - 0s - loss: 0.1161 - val_loss: 0.1351 - 163ms/epoch - 3ms/step\n",
      "Epoch 31/50\n",
      "60/60 - 0s - loss: 0.1162 - val_loss: 0.1352 - 168ms/epoch - 3ms/step\n",
      "Epoch 32/50\n",
      "60/60 - 0s - loss: 0.1156 - val_loss: 0.1351 - 163ms/epoch - 3ms/step\n",
      "Epoch 33/50\n",
      "60/60 - 0s - loss: 0.1164 - val_loss: 0.1351 - 160ms/epoch - 3ms/step\n",
      "Epoch 34/50\n",
      "60/60 - 0s - loss: 0.1157 - val_loss: 0.1350 - 162ms/epoch - 3ms/step\n",
      "Epoch 35/50\n",
      "60/60 - 0s - loss: 0.1159 - val_loss: 0.1351 - 161ms/epoch - 3ms/step\n",
      "Epoch 36/50\n",
      "60/60 - 0s - loss: 0.1159 - val_loss: 0.1351 - 161ms/epoch - 3ms/step\n",
      "Epoch 37/50\n",
      "60/60 - 0s - loss: 0.1156 - val_loss: 0.1349 - 161ms/epoch - 3ms/step\n",
      "Epoch 38/50\n",
      "60/60 - 0s - loss: 0.1158 - val_loss: 0.1351 - 160ms/epoch - 3ms/step\n",
      "Epoch 39/50\n",
      "60/60 - 0s - loss: 0.1157 - val_loss: 0.1349 - 160ms/epoch - 3ms/step\n",
      "Epoch 40/50\n",
      "60/60 - 0s - loss: 0.1157 - val_loss: 0.1349 - 160ms/epoch - 3ms/step\n",
      "Epoch 41/50\n",
      "60/60 - 0s - loss: 0.1157 - val_loss: 0.1350 - 162ms/epoch - 3ms/step\n",
      "Epoch 42/50\n",
      "60/60 - 0s - loss: 0.1156 - val_loss: 0.1348 - 164ms/epoch - 3ms/step\n",
      "Epoch 43/50\n",
      "60/60 - 0s - loss: 0.1154 - val_loss: 0.1345 - 162ms/epoch - 3ms/step\n",
      "Epoch 44/50\n",
      "60/60 - 0s - loss: 0.1153 - val_loss: 0.1344 - 161ms/epoch - 3ms/step\n",
      "Epoch 45/50\n",
      "60/60 - 0s - loss: 0.1154 - val_loss: 0.1344 - 163ms/epoch - 3ms/step\n",
      "Epoch 46/50\n",
      "60/60 - 0s - loss: 0.1153 - val_loss: 0.1344 - 160ms/epoch - 3ms/step\n",
      "Epoch 47/50\n",
      "60/60 - 0s - loss: 0.1152 - val_loss: 0.1343 - 162ms/epoch - 3ms/step\n",
      "Epoch 48/50\n",
      "60/60 - 0s - loss: 0.1148 - val_loss: 0.1343 - 162ms/epoch - 3ms/step\n",
      "Epoch 49/50\n",
      "60/60 - 0s - loss: 0.1151 - val_loss: 0.1344 - 163ms/epoch - 3ms/step\n",
      "Epoch 50/50\n",
      "60/60 - 0s - loss: 0.1149 - val_loss: 0.1344 - 161ms/epoch - 3ms/step\n"
     ]
    },
    {
     "data": {
      "image/png": "[encoded data removed]",
      "text/plain": [
       "<Figure size 640x480 with 1 Axes>"
      ]
     },
     "metadata": {},
     "output_type": "display_data"
    },
    {
     "name": "stdout",
     "output_type": "stream",
     "text": [
      "56/56 [==============================] - 0s 776us/step\n",
      "Test RMSE: 0.183\n"
     ]
    }
   ],
   "source": [
    "#12\n",
    "# design network\n",
    "model = Sequential()\n",
    "model.add(LSTM(50, input_shape=(train_X.shape[1], train_X.shape[2])))\n",
    "model.add(Dense(1))\n",
    "model.compile(loss='mae', optimizer='adam')\n",
    "\n",
    "\n",
    "# fit network\n",
    "history = model.fit(train_X, train_y, epochs=50, batch_size=72, validation_data=(test_X, test_y), verbose=2, shuffle=False)\n",
    "\n",
    "# plot history\n",
    "plt.plot(history.history['loss'], label='train')\n",
    "plt.plot(history.history['val_loss'], label='test')\n",
    "plt.legend()\n",
    "plt.show()\n",
    "\n",
    "# make a prediction\n",
    "yhat = model.predict(test_X)\n",
    "\n",
    "# calculate RMSE\n",
    "rmse = sqrt(mean_squared_error(test_y, yhat))\n",
    "print('Test RMSE: %.3f' % rmse)"
   ]
  },
  {
   "cell_type": "code",
   "execution_count": 1,
   "id": "cc783a44",
   "metadata": {},
   "outputs": [],
   "source": []
  },
  {
   "cell_type": "code",
   "execution_count": 2,
   "id": "5c419ca1",
   "metadata": {},
   "outputs": [],
   "source": []
  },
  {
   "cell_type": "code",
   "execution_count": null,
   "id": "433707bc",
   "metadata": {},
   "outputs": [],
   "source": []
  }
 ],
 "metadata": {
  "kernelspec": {
   "display_name": "Python 3 (ipykernel)",
   "language": "python",
   "name": "python3"
  },
  "language_info": {
   "codemirror_mode": {
    "name": "ipython",
    "version": 3
   },
   "file_extension": ".py",
   "mimetype": "text/x-python",
   "name": "python",
   "nbconvert_exporter": "python",
   "pygments_lexer": "ipython3",
   "version": "3.9.15"
  }
 },
 "nbformat": 4,
 "nbformat_minor": 5
}
